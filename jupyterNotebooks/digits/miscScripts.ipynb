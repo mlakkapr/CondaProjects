{
 "cells": [
  {
   "cell_type": "code",
   "execution_count": 8,
   "metadata": {},
   "outputs": [
    {
     "name": "stdout",
     "output_type": "stream",
     "text": [
      "1\n",
      "2\n",
      "3\n",
      "5\n",
      "6\n",
      "7\n",
      "8\n",
      "9\n"
     ]
    }
   ],
   "source": [
    "from PIL import Image\n",
    "from PIL import ImageOps as imgops\n",
    "import numpy as np\n",
    "import glob\n",
    "\n",
    "\n",
    "def extract_digit(f_nm):\n",
    "    a = f_nm.split(\"\\\\\")\n",
    "    b = a[1].split('.')\n",
    "    print((b[0])[-1])\n",
    "\n",
    "\n",
    "file_list = glob.glob(\"images\\\\*.png\")\n",
    "\n",
    "img_vector_dict = {}\n",
    "\n",
    "for f in file_list:\n",
    "    try:\n",
    "        extract_digit(f)\n",
    "        #read the sample.png image \n",
    "        img = imgops.grayscale(Image.open(f))\n",
    "    except:\n",
    "        print(f'ERROR! Unable to open {f}')\n",
    "\n",
    "    #convert the img to a vector\n",
    "    img88 = img.resize((8,8))\n",
    "    arr88 = np.array(img88)\n",
    "    flat_arr88 = arr88.ravel()\n",
    "    #print(flat_arr88)\n",
    "    #print(flat_arr88.shape)\n",
    "    img_vector_dict[f] = flat_arr88\n",
    "\n",
    "#print(img_vector_dict)\n",
    "#return img_ventor_dict\n",
    "\n"
   ]
  },
  {
   "cell_type": "code",
   "execution_count": null,
   "metadata": {},
   "outputs": [],
   "source": []
  }
 ],
 "metadata": {
  "kernelspec": {
   "display_name": "Python 3",
   "language": "python",
   "name": "python3"
  },
  "language_info": {
   "codemirror_mode": {
    "name": "ipython",
    "version": 3
   },
   "file_extension": ".py",
   "mimetype": "text/x-python",
   "name": "python",
   "nbconvert_exporter": "python",
   "pygments_lexer": "ipython3",
   "version": "3.8.3"
  }
 },
 "nbformat": 4,
 "nbformat_minor": 4
}
