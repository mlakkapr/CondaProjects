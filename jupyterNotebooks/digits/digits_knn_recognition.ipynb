{
 "cells": [
  {
   "cell_type": "code",
   "execution_count": 1,
   "metadata": {},
   "outputs": [
    {
     "name": "stdout",
     "output_type": "stream",
     "text": [
      "Model accuracy: 0.9809220985691574\n"
     ]
    }
   ],
   "source": [
    "from sklearn.datasets import load_digits\n",
    "from sklearn.model_selection import train_test_split\n",
    "from sklearn.neighbors import KNeighborsClassifier\n",
    "from sklearn import metrics\n",
    "import joblib\n",
    "\n",
    "#1. load dataset\n",
    "digits = load_digits()\n",
    "#print(digits.data.shape)\n",
    "\n",
    "X = digits.data\n",
    "y = digits.target\n",
    "\n",
    "#2. clean the data - no need to clean since it is from sklearn lib\n",
    "#digits.feature_names [pixel_0_0, pixel_0_1...pixel_7_7]\n",
    "#digits.target_names [0,1,2,3,4,5,6,7,8,9]\n",
    "#y.shape 1797\n",
    "\n",
    "#3. split the data\n",
    "X_train, X_test, y_train, y_test = train_test_split(X, y, test_size=0.35)\n",
    "\n",
    "#4. create and train the model\n",
    "knc = KNeighborsClassifier(n_neighbors=4)\n",
    "knc.fit(X_train, y_train)\n",
    "\n",
    "#5. predict the result of the test dataset and then compare \n",
    "#how our maodel predicted against the known y_test dataset\n",
    "y_pred = knc.predict(X_test)\n",
    "acc = metrics.accuracy_score(y_test, y_pred)\n",
    "print(f'Model accuracy: {acc}')\n",
    "\n",
    "# if (acc > 0.98):\n",
    "#     # save the model so we don't have to repeat the resource intensive training\n",
    "#     model_name = 'ml_digits_model_test35_8knn.joblib'\n",
    "#     joblib.dump(knc, model_name)\n",
    "#     print(f'Model persistance successfull: {model_name}')\n",
    "\n"
   ]
  },
  {
   "cell_type": "code",
   "execution_count": 2,
   "metadata": {},
   "outputs": [],
   "source": [
    "# function to convert one image file to vector\n",
    "import numpy as np\n",
    "from PIL import Image\n",
    "from PIL import ImageOps as imgops\n",
    "import joblib\n",
    "from sklearn.datasets import load_digits\n",
    "import glob\n",
    "\n",
    "def get_sample_vector():\n",
    "\n",
    "    try:\n",
    "        #read the sample.png image \n",
    "        img = imgops.grayscale(Image.open('.\\\\images\\\\sample7.png'))\n",
    "        img.show()\n",
    "    except:\n",
    "        print('sample.png not found! Expect bad things!')\n",
    "        return []\n",
    "    \n",
    "    #convert to the img to a vector\n",
    "    img88 = img.resize((8,8))\n",
    "    arr88 = np.array(img88)\n",
    "    flat_arr88 = arr88.ravel()\n",
    "    return flat_arr88\n",
    "\n"
   ]
  },
  {
   "cell_type": "markdown",
   "metadata": {},
   "source": [
    "###Function to convert ALL the images in the images subfolder to 1D vector"
   ]
  },
  {
   "cell_type": "code",
   "execution_count": 3,
   "metadata": {},
   "outputs": [],
   "source": [
    "\n",
    "def get_image_vector_dict():\n",
    "    file_list = glob.glob(\"images\\\\*.png\")\n",
    "\n",
    "    img_vector_dict = {}\n",
    "\n",
    "    for f in file_list:\n",
    "        try:\n",
    "            #read the sample.png image \n",
    "            img = imgops.grayscale(Image.open(f))\n",
    "        except:\n",
    "            print(f'ERROR! Unable to open {f}')\n",
    "\n",
    "        #convert the img to a vector\n",
    "        img88 = img.resize((8,8))\n",
    "        arr88 = np.array(img88)\n",
    "        flat_arr88 = arr88.ravel()\n",
    "        #print(flat_arr88)\n",
    "        #print(flat_arr88.shape)\n",
    "        img_vector_dict[f] = flat_arr88\n",
    "\n",
    "    #print(img_vector_dict)\n",
    "    return img_vector_dict\n"
   ]
  },
  {
   "cell_type": "code",
   "execution_count": 8,
   "metadata": {},
   "outputs": [],
   "source": [
    "def extract_digit(file_name):\n",
    "    a = file_name.split(\"\\\\\")\n",
    "    b = a[1].split('.')\n",
    "    return (b[0])[-1]\n",
    "\n",
    "\n",
    "def validate_predictions(predictions):\n",
    "    print('predictions:', predictions)\n",
    "    print('|Expected|Predicted|Pass/Fail|')\n",
    "    for f_nm, pred in predictions.items():\n",
    "        expected = extract_digit(f_nm)\n",
    "        pf = 'PASS' if int(expected) == int(pred) else 'FAIL'\n",
    "        print(f'|{expected}|{pred}|{pf}')\n",
    "\n"
   ]
  },
  {
   "cell_type": "code",
   "execution_count": 9,
   "metadata": {},
   "outputs": [
    {
     "name": "stdout",
     "output_type": "stream",
     "text": [
      "predictions: {'images\\\\sample1.png': 0, 'images\\\\sample2.png': 1, 'images\\\\sample3.png': 9, 'images\\\\sample5.png': 9, 'images\\\\sample6.png': 9, 'images\\\\sample7.png': 0, 'images\\\\sample8.png': 9, 'images\\\\sample9.png': 1}\n",
      "|Expected|Predicted|Pass/Fail|\n",
      "|1|0|FAIL\n",
      "|2|1|FAIL\n",
      "|3|9|FAIL\n",
      "|5|9|FAIL\n",
      "|6|9|FAIL\n",
      "|7|0|FAIL\n",
      "|8|9|FAIL\n",
      "|9|1|FAIL\n",
      "The End!\n"
     ]
    }
   ],
   "source": [
    "# Using the model.....\n",
    "# import numpy as np\n",
    "# from PIL import Image\n",
    "# from PIL import ImageOps as imgops\n",
    "# import joblib\n",
    "# from sklearn.datasets import load_digits\n",
    "# import glob\n",
    "\n",
    "\n",
    "# load the sample\n",
    "img_dict = get_image_vector_dict()\n",
    "#print(len(sample))\n",
    "if len(img_dict) < 1 or len(img_dict.values()) < 1:\n",
    "    print('Sample image error!')\n",
    "    exit(404)\n",
    "\n",
    "# load digits dataset so we can look up our predicted target\n",
    "#digits = load_digits() - loaded earlier in the notebook \n",
    "\n",
    "predictions = {}\n",
    "# loop thru the vectors and run them through the prediction model \n",
    "for img_nm, smpl in img_dict.items():\n",
    "    p = knc.predict([smpl])\n",
    "    predictions[img_nm] = digits.target_names[p[0]]\n",
    "\n",
    "validate_predictions(predictions)\n",
    "#print('predictions:', predictions)\n",
    "print('The End!')\n"
   ]
  },
  {
   "cell_type": "code",
   "execution_count": null,
   "metadata": {},
   "outputs": [],
   "source": []
  }
 ],
 "metadata": {
  "kernelspec": {
   "display_name": "Python 3",
   "language": "python",
   "name": "python3"
  },
  "language_info": {
   "codemirror_mode": {
    "name": "ipython",
    "version": 3
   },
   "file_extension": ".py",
   "mimetype": "text/x-python",
   "name": "python",
   "nbconvert_exporter": "python",
   "pygments_lexer": "ipython3",
   "version": "3.8.3"
  }
 },
 "nbformat": 4,
 "nbformat_minor": 4
}
